{
 "cells": [
  {
   "cell_type": "code",
   "execution_count": null,
   "id": "11d06619-3fda-42f1-a70d-ae2c2c38b32f",
   "metadata": {},
   "outputs": [],
   "source": [
    "Q1. Which function is used to open a file? What are the different modes of opening a file? Explain each mode of file opening."
   ]
  },
  {
   "cell_type": "code",
   "execution_count": null,
   "id": "a97c4d3f-3152-40ec-a307-2fbf230b00c2",
   "metadata": {},
   "outputs": [],
   "source": [
    "The fopen () function is used to create a file or open an existing file: f = fopen(filename, mode)\n",
    "modes of opening a file are:\n",
    "1. read mode (\"r\")  : only read operation\n",
    "2. write mode (\"w\") : only write operation if data present already erase the data and write new data\n",
    "3. append mode (\"a\"): write and preserve the already preasnt data\n",
    "4. binary mode (\"b\"): read and write also done in  binary mode\n",
    "5. read and write mode (\"r+\")\n",
    "6. write and read mode (\"w+\")\n",
    "  ..."
   ]
  },
  {
   "cell_type": "code",
   "execution_count": 1,
   "id": "296a75a0-6d86-49fc-b500-33c7225def77",
   "metadata": {},
   "outputs": [],
   "source": [
    "## write mode \n",
    "f = open(\"test.txt\",\"w\")\n",
    "f.write(\"This is write mode\")\n",
    "f.close()"
   ]
  },
  {
   "cell_type": "code",
   "execution_count": 4,
   "id": "b25da2f3-8421-440f-bb39-b900b840e2f5",
   "metadata": {},
   "outputs": [],
   "source": [
    "# read mode\n",
    "f = open(\"test.txt\",'r')"
   ]
  },
  {
   "cell_type": "code",
   "execution_count": 5,
   "id": "10d880fa-f2ea-4774-a0c1-24b9a810e5d9",
   "metadata": {},
   "outputs": [
    {
     "data": {
      "text/plain": [
       "'This is write mode'"
      ]
     },
     "execution_count": 5,
     "metadata": {},
     "output_type": "execute_result"
    }
   ],
   "source": [
    "f.read()"
   ]
  },
  {
   "cell_type": "code",
   "execution_count": 6,
   "id": "5ecd14d7-146e-44b5-90de-4486661ea4a8",
   "metadata": {},
   "outputs": [],
   "source": [
    "f.close()"
   ]
  },
  {
   "cell_type": "code",
   "execution_count": 7,
   "id": "09d005d3-6fea-48fd-bd9a-bfcafebfbf85",
   "metadata": {},
   "outputs": [
    {
     "data": {
      "text/plain": [
       "19"
      ]
     },
     "execution_count": 7,
     "metadata": {},
     "output_type": "execute_result"
    }
   ],
   "source": [
    "# append mode\n",
    "f = open(\"test.txt\",\"w\")\n",
    "f.write(\"This is append mode\")"
   ]
  },
  {
   "cell_type": "code",
   "execution_count": 9,
   "id": "4bc20a56-29cb-4feb-9341-ef1b3c9dc2fd",
   "metadata": {},
   "outputs": [],
   "source": [
    "f.close()"
   ]
  },
  {
   "cell_type": "code",
   "execution_count": 34,
   "id": "5c6cf821-7450-4023-8143-9cfba62fc1ae",
   "metadata": {},
   "outputs": [],
   "source": [
    "# write in binary mode\n",
    "f = open(\"text.txt\",\"wb\")"
   ]
  },
  {
   "cell_type": "code",
   "execution_count": 12,
   "id": "44bf5862-87a4-4dec-9135-f52b67499e12",
   "metadata": {},
   "outputs": [
    {
     "data": {
      "text/plain": [
       "6"
      ]
     },
     "execution_count": 12,
     "metadata": {},
     "output_type": "execute_result"
    }
   ],
   "source": [
    "f.write(b\"\\x01\\x02\\x03\\x3423\")"
   ]
  },
  {
   "cell_type": "code",
   "execution_count": 13,
   "id": "66435d74-541e-4fb2-adf7-6ebdb26b4229",
   "metadata": {},
   "outputs": [],
   "source": [
    "f.close()"
   ]
  },
  {
   "cell_type": "code",
   "execution_count": 35,
   "id": "cc13999c-d5c5-40b6-96f8-61300d0200e7",
   "metadata": {},
   "outputs": [],
   "source": [
    "# read in binary mode\n",
    "f = open(\"text.txt\",\"rb\")"
   ]
  },
  {
   "cell_type": "code",
   "execution_count": 15,
   "id": "55846ea1-d34d-42e1-a165-e6a616506dbd",
   "metadata": {},
   "outputs": [
    {
     "data": {
      "text/plain": [
       "b'\\x01\\x02\\x03423'"
      ]
     },
     "execution_count": 15,
     "metadata": {},
     "output_type": "execute_result"
    }
   ],
   "source": [
    "f.read()"
   ]
  },
  {
   "cell_type": "code",
   "execution_count": 16,
   "id": "73aff595-9e17-418d-9774-95ffee8ba6ed",
   "metadata": {},
   "outputs": [],
   "source": [
    "f.close()"
   ]
  },
  {
   "cell_type": "code",
   "execution_count": null,
   "id": "f7f43f09-d03a-45b5-9184-19121b5a6bbc",
   "metadata": {},
   "outputs": [],
   "source": [
    "___________________________________________________________________________________________________________________________________"
   ]
  },
  {
   "cell_type": "code",
   "execution_count": null,
   "id": "129dc5e8-218e-4ade-8b78-16881deef4f7",
   "metadata": {},
   "outputs": [],
   "source": [
    "Q2. Why close() function is used? Why is it important to close a file?"
   ]
  },
  {
   "cell_type": "code",
   "execution_count": null,
   "id": "72dda9bd-a431-4b66-8955-da36b8a33981",
   "metadata": {},
   "outputs": [],
   "source": [
    "The close() function is used to close a file after it has been opened. \n",
    "It is important to close a file because it frees up system resources that are being used by the file.\n",
    "When a file is open, the operating system allocates memory and other resources to the file,\n",
    "which can potentially impact the performance of the system if too many files are open at the same time.\n",
    "When done with a file, it must be closed using the function fclose().\n",
    "Closing a file is very important, especially with output files."
   ]
  },
  {
   "cell_type": "code",
   "execution_count": null,
   "id": "eb013e4b-393a-4223-95ca-abf330ed857b",
   "metadata": {},
   "outputs": [],
   "source": [
    "___________________________________________________________________________________________________________________________________"
   ]
  },
  {
   "cell_type": "code",
   "execution_count": null,
   "id": "964df33f-e3a3-4a84-b727-3b1d8c546178",
   "metadata": {},
   "outputs": [],
   "source": [
    "Q3. Write a python program to create a text file. Write ‘I want to become a Data Scientist’ in that file. Then close the file.\n",
    "    Open this file and read the content of the file."
   ]
  },
  {
   "cell_type": "code",
   "execution_count": 28,
   "id": "d04ed504-8b85-4c00-80f4-02fa47657edf",
   "metadata": {},
   "outputs": [],
   "source": [
    "## Creating a text file in write mode\n",
    "f = open(\"test1.txt\",'w')"
   ]
  },
  {
   "cell_type": "code",
   "execution_count": 29,
   "id": "21cc7ff4-2ee7-4b00-9c8b-fbdf28c7cdaa",
   "metadata": {},
   "outputs": [
    {
     "data": {
      "text/plain": [
       "33"
      ]
     },
     "execution_count": 29,
     "metadata": {},
     "output_type": "execute_result"
    }
   ],
   "source": [
    "## writing the data in the file\n",
    "f.write(\"I want to become a Data Scientist\")"
   ]
  },
  {
   "cell_type": "code",
   "execution_count": 30,
   "id": "01e4b09c-d9b0-4a56-bf0b-5e11ab3e1720",
   "metadata": {},
   "outputs": [],
   "source": [
    "##  closing the file\n",
    "f.close()"
   ]
  },
  {
   "cell_type": "code",
   "execution_count": 31,
   "id": "d935c197-a756-4708-ad8a-05b4c4b34f38",
   "metadata": {},
   "outputs": [],
   "source": [
    "## opening the file in read mode\n",
    "f = open(\"test1.txt\",'r')"
   ]
  },
  {
   "cell_type": "code",
   "execution_count": 32,
   "id": "d90825ad-d153-491a-a515-bc7e46cdd86a",
   "metadata": {},
   "outputs": [
    {
     "data": {
      "text/plain": [
       "'I want to become a Data Scientist'"
      ]
     },
     "execution_count": 32,
     "metadata": {},
     "output_type": "execute_result"
    }
   ],
   "source": [
    "## reading the data from file\n",
    "f.read()"
   ]
  },
  {
   "cell_type": "code",
   "execution_count": 33,
   "id": "eb441140-88ef-4c26-8714-275f1543a4a4",
   "metadata": {},
   "outputs": [],
   "source": [
    "## closing the file\n",
    "f.close()"
   ]
  },
  {
   "cell_type": "code",
   "execution_count": null,
   "id": "448e2e0c-63a4-480b-9e4a-1fde58ba5c58",
   "metadata": {},
   "outputs": [],
   "source": [
    "___________________________________________________________________________________________________________________________________"
   ]
  },
  {
   "cell_type": "code",
   "execution_count": null,
   "id": "a6c5f25b-e428-4b12-a07b-c1832d136124",
   "metadata": {},
   "outputs": [],
   "source": [
    "Q4. Explain the following with python code: read(), readline() and readlines()."
   ]
  },
  {
   "cell_type": "code",
   "execution_count": null,
   "id": "da43893b-dc25-44a1-aeef-fc0f1862165d",
   "metadata": {},
   "outputs": [],
   "source": [
    "read() reads the entire file and returns a string,\n",
    "readline() reads just one line from a file, and \n",
    "readlines() returns a list of strings representing the lines of the file.\n",
    "for example:"
   ]
  },
  {
   "cell_type": "code",
   "execution_count": 38,
   "id": "e0bbfa2e-93b8-4b70-931f-f29e883d9be0",
   "metadata": {},
   "outputs": [],
   "source": [
    "f = open(\"text3.txt\",\"w\")"
   ]
  },
  {
   "cell_type": "code",
   "execution_count": 39,
   "id": "23ce9c08-da93-4a6c-9eb4-4d245ff2d79b",
   "metadata": {},
   "outputs": [
    {
     "data": {
      "text/plain": [
       "73"
      ]
     },
     "execution_count": 39,
     "metadata": {},
     "output_type": "execute_result"
    }
   ],
   "source": [
    "f.write(\"This is my first line.\\n This is my second line. \\n This is my third line .\")"
   ]
  },
  {
   "cell_type": "code",
   "execution_count": 40,
   "id": "99e9a250-7cdc-485d-b733-0dda9462a9c7",
   "metadata": {},
   "outputs": [],
   "source": [
    "f.close()"
   ]
  },
  {
   "cell_type": "code",
   "execution_count": 41,
   "id": "13684793-56f3-4859-ace7-9a4735f5b889",
   "metadata": {},
   "outputs": [],
   "source": [
    "f = open(\"text3.txt\",\"r\")"
   ]
  },
  {
   "cell_type": "code",
   "execution_count": 42,
   "id": "cc8267b5-ef70-4fa4-8493-0e4901f1c0b6",
   "metadata": {},
   "outputs": [
    {
     "data": {
      "text/plain": [
       "'This is my first line.\\n This is my second line. \\n This is my third line .'"
      ]
     },
     "execution_count": 42,
     "metadata": {},
     "output_type": "execute_result"
    }
   ],
   "source": [
    "f.read()"
   ]
  },
  {
   "cell_type": "code",
   "execution_count": 43,
   "id": "3d47fff4-c32d-42c2-a47a-7efaf1eeda93",
   "metadata": {},
   "outputs": [
    {
     "data": {
      "text/plain": [
       "''"
      ]
     },
     "execution_count": 43,
     "metadata": {},
     "output_type": "execute_result"
    }
   ],
   "source": [
    "f.readline()"
   ]
  },
  {
   "cell_type": "code",
   "execution_count": null,
   "id": "a6d6e8b4-d061-4341-a211-fbe212321e01",
   "metadata": {},
   "outputs": [],
   "source": [
    "The string is empty becaue we already read the file and we are at then end point of file .\n",
    "we have to assign pointer at the initial position of file."
   ]
  },
  {
   "cell_type": "code",
   "execution_count": 44,
   "id": "51266509-0d5f-44f3-add1-3a32aaf77333",
   "metadata": {},
   "outputs": [
    {
     "data": {
      "text/plain": [
       "0"
      ]
     },
     "execution_count": 44,
     "metadata": {},
     "output_type": "execute_result"
    }
   ],
   "source": [
    "f.seek(0)"
   ]
  },
  {
   "cell_type": "code",
   "execution_count": 45,
   "id": "fe8308ca-3403-4ecd-8707-a5feaeca4194",
   "metadata": {},
   "outputs": [
    {
     "data": {
      "text/plain": [
       "'This is my first line.\\n'"
      ]
     },
     "execution_count": 45,
     "metadata": {},
     "output_type": "execute_result"
    }
   ],
   "source": [
    "f.readline()"
   ]
  },
  {
   "cell_type": "code",
   "execution_count": 46,
   "id": "ad766019-44c6-4caf-9335-57e4c369c447",
   "metadata": {},
   "outputs": [
    {
     "data": {
      "text/plain": [
       "' This is my second line. \\n'"
      ]
     },
     "execution_count": 46,
     "metadata": {},
     "output_type": "execute_result"
    }
   ],
   "source": [
    "f.readline()"
   ]
  },
  {
   "cell_type": "code",
   "execution_count": 47,
   "id": "1b41f755-e307-4171-be8c-53778dc9adbc",
   "metadata": {},
   "outputs": [
    {
     "data": {
      "text/plain": [
       "' This is my third line .'"
      ]
     },
     "execution_count": 47,
     "metadata": {},
     "output_type": "execute_result"
    }
   ],
   "source": [
    "f.readline()"
   ]
  },
  {
   "cell_type": "code",
   "execution_count": 50,
   "id": "087cf7b7-859b-4b36-8383-cce550e3adac",
   "metadata": {},
   "outputs": [
    {
     "data": {
      "text/plain": [
       "0"
      ]
     },
     "execution_count": 50,
     "metadata": {},
     "output_type": "execute_result"
    }
   ],
   "source": [
    "## Assign pointer the zero position in file\n",
    "f.seek(0)"
   ]
  },
  {
   "cell_type": "code",
   "execution_count": 51,
   "id": "c92acd50-205f-47c9-900f-f1fa9b181cd6",
   "metadata": {},
   "outputs": [
    {
     "data": {
      "text/plain": [
       "['This is my first line.\\n',\n",
       " ' This is my second line. \\n',\n",
       " ' This is my third line .']"
      ]
     },
     "execution_count": 51,
     "metadata": {},
     "output_type": "execute_result"
    }
   ],
   "source": [
    "f.readlines()"
   ]
  },
  {
   "cell_type": "code",
   "execution_count": null,
   "id": "e94e0191-62b8-4b11-8a93-b985c44efd1e",
   "metadata": {},
   "outputs": [],
   "source": [
    "___________________________________________________________________________________________________________________________________"
   ]
  },
  {
   "cell_type": "code",
   "execution_count": null,
   "id": "b924dcb3-af90-4115-88c0-020d59c71efe",
   "metadata": {},
   "outputs": [],
   "source": [
    "Q5. Explain why with statement is used with open(). What is the advantage of using with statement and open() together?"
   ]
  },
  {
   "cell_type": "code",
   "execution_count": null,
   "id": "6ece7c78-b3f2-4c6b-a36c-842eb6555fb3",
   "metadata": {},
   "outputs": [],
   "source": [
    "The with keyword in Python is used as a context manager. As in any programming language, the usage of resources like file operations\n",
    "or database connections is very common.the open() function is generally used for file handling in Python. \n",
    "But it is a standard practice to use context managers like with keywords to handle files as it will automatically release files\n",
    "once its usage is complete."
   ]
  },
  {
   "cell_type": "code",
   "execution_count": 52,
   "id": "ed02e1ed-000d-43d4-ac4a-c8a1066427ae",
   "metadata": {},
   "outputs": [
    {
     "name": "stdout",
     "output_type": "stream",
     "text": [
      "This is my first line.\n",
      " This is my second line. \n",
      " This is my third line .\n"
     ]
    }
   ],
   "source": [
    "with open(\"text3.txt\",\"r\") as f :\n",
    "    print(f.read())"
   ]
  },
  {
   "cell_type": "code",
   "execution_count": null,
   "id": "8467d4d3-5209-4329-aa7c-919fb32ea279",
   "metadata": {},
   "outputs": [],
   "source": [
    "The advantage of using the with statement with open() function is that it automatically closes the file after \n",
    "the nested block of code is executed. This ensures that the file is closed even if an exception occurs. \n",
    "The with statement creates an execution block and object created in the with statement will be destroyed or gracefully closed \n",
    "when this execution block ends. It means when we used with statement with open() function, an execution blocked started \n",
    "and the file object returned by open() function is assigned to file_object."
   ]
  },
  {
   "cell_type": "code",
   "execution_count": null,
   "id": "489ee512-1aa2-4dc0-a07b-243020e196c9",
   "metadata": {},
   "outputs": [],
   "source": [
    "___________________________________________________________________________________________________________________________________"
   ]
  },
  {
   "cell_type": "code",
   "execution_count": null,
   "id": "51f73454-f1c5-4710-84d3-3ad56d014bd0",
   "metadata": {},
   "outputs": [],
   "source": [
    "Q6. Explain the write() and writelines() functions. Give a suitable example."
   ]
  },
  {
   "cell_type": "code",
   "execution_count": null,
   "id": "9a6fe39c-6728-473a-b0c0-2b84873b6da4",
   "metadata": {},
   "outputs": [],
   "source": [
    "write() function :\n",
    "                  The write() function will write the content in the file without adding any extra characters.\n",
    "writelines() function :\n",
    "                       This function writes the content of a list to a file."
   ]
  },
  {
   "cell_type": "code",
   "execution_count": 53,
   "id": "6cd900c4-54bb-48ba-92c6-441d41b91120",
   "metadata": {},
   "outputs": [],
   "source": [
    "with open(\"test4.txt\",'w') as f:\n",
    "    f.write(\"This is my write operation\")"
   ]
  },
  {
   "cell_type": "code",
   "execution_count": 54,
   "id": "b0c2e2c6-b218-4f2e-b99d-f1073efb6f18",
   "metadata": {},
   "outputs": [],
   "source": [
    "list = [\"The first line \\n\", \"The second line \\n\",\"The third line\"]\n",
    "with open(\"test5.txt\",\"w\") as f:\n",
    "    f.writelines(list)"
   ]
  },
  {
   "cell_type": "code",
   "execution_count": null,
   "id": "56802f8a-6693-4ba7-a988-7f59ed070114",
   "metadata": {},
   "outputs": [],
   "source": []
  }
 ],
 "metadata": {
  "kernelspec": {
   "display_name": "Python 3 (ipykernel)",
   "language": "python",
   "name": "python3"
  },
  "language_info": {
   "codemirror_mode": {
    "name": "ipython",
    "version": 3
   },
   "file_extension": ".py",
   "mimetype": "text/x-python",
   "name": "python",
   "nbconvert_exporter": "python",
   "pygments_lexer": "ipython3",
   "version": "3.10.8"
  }
 },
 "nbformat": 4,
 "nbformat_minor": 5
}
